{
  "cells": [
    {
      "cell_type": "markdown",
      "source": [
        "![LogoUC3M](https://www.fundacion.uc3m.es/wp-content/uploads/2018/11/Logo-UC3M-nuevo.png)\n",
        "\n",
        "### Aprendizaje Automático · Grado en Ingeniería Informática · Curso 2022/23\n",
        "# Tutorial 2: Hyperparameter Optimization with Decision Trees"
      ],
      "metadata": {
        "id": "yY-BGccBnhWz"
      }
    },
    {
      "cell_type": "markdown",
      "source": [
        "We will install the library `scikit-optimize`, which contains functions that allow and ease for hyperparameter optimization."
      ],
      "metadata": {
        "id": "znUUyrlyoIO0"
      }
    },
    {
      "cell_type": "code",
      "execution_count": null,
      "metadata": {
        "id": "45cWJKARCT2Y"
      },
      "outputs": [],
      "source": [
        "!pip install git+https://github.com/scikit-optimize/scikit-optimize.git"
      ]
    },
    {
      "cell_type": "markdown",
      "metadata": {
        "id": "RjO0ZHCkZp30"
      },
      "source": [
        "# Tuning Decision Trees\n",
        "\n"
      ]
    },
    {
      "cell_type": "markdown",
      "metadata": {
        "id": "k_5O3DQkZp31"
      },
      "source": [
        "We will optimize the following hyperparameters:\n",
        "\n",
        "- `max_depth`: the maximum depth of the tree. If `None`, then nodes are expanded until all leaves are pure or until all leaves contain less than `min_samples_split` samples. Ignored if `max_leaf_nodes` is not `None`.\n",
        "    \n",
        "- `min_samples_split`: the minimum number of samples required to split an internal node.\n",
        "\n",
        "There are more hyper-parameters which can be considered: \n",
        "  - [Documentation for a decision tree classifier](https://scikit-learn.org/stable/modules/generated/sklearn.tree.DecisionTreeClassifier.html)\n",
        "  - [Documentation for a decision tree regressor](https://scikit-learn.org/stable/modules/generated/sklearn.tree.DecisionTreeRegressor.html)\n",
        "\n"
      ]
    },
    {
      "cell_type": "markdown",
      "metadata": {
        "id": "5tfYm7QAZp32"
      },
      "source": [
        "We will work with the California housing dataset. We load the data as usual, with `X` being the attributes and `y` the output."
      ]
    },
    {
      "cell_type": "code",
      "execution_count": null,
      "metadata": {
        "id": "sJD421uMZp33"
      },
      "outputs": [],
      "source": [
        "%matplotlib inline\n",
        "import matplotlib.pyplot as plt\n",
        "import numpy as np\n",
        "from sklearn.datasets import fetch_california_housing\n",
        "from scipy.stats import sem\n",
        "\n",
        "housing = fetch_california_housing()\n",
        "X = housing.data\n",
        "y = housing.target"
      ]
    },
    {
      "cell_type": "markdown",
      "metadata": {
        "id": "2Ry14avEZp36"
      },
      "source": [
        "The combination of model evaluation and hyper-parameter tuning can be understood as an external loop (outer) that trains a model and tests the model, and an internal loop (inner), where the training process consists on looking for the best hyper-parameters, and then obtaining the model with those best hyper-parameters.\n",
        "\n",
        "First, we are going to use **holdout** (train/test) for model evaluation (external loop or **outer**), and **3-fold crossvalidation** for hyper-parameter tuning (internal loop or **inner**). Hyper-parameters will be adjusted using a search procedure."
      ]
    },
    {
      "cell_type": "markdown",
      "metadata": {
        "id": "GQQaJrViZp37"
      },
      "source": [
        "# Grid Search"
      ]
    },
    {
      "cell_type": "markdown",
      "metadata": {
        "id": "7rqhsc9OARd3"
      },
      "source": [
        "Let's define a function for computing the RMSE (root mean squared error)."
      ]
    },
    {
      "cell_type": "code",
      "execution_count": null,
      "metadata": {
        "id": "TM7SzJLHAQhZ"
      },
      "outputs": [],
      "source": [
        "def rmse (y_test, y_test_pred):\n",
        "  \"\"\" Computation of root mean squared error \"\"\"\n",
        "  return np.sqrt(metrics.mean_squared_error(y_test, y_test_pred))"
      ]
    },
    {
      "cell_type": "code",
      "execution_count": null,
      "metadata": {
        "id": "laxLj26PZp37"
      },
      "outputs": [],
      "source": [
        "from sklearn.model_selection import train_test_split\n",
        "\n",
        "# Holdout for model evaluation. 33% of available data for test\n",
        "X_train, X_test, y_train, y_test = train_test_split(X, y, test_size=0.33, random_state=42)"
      ]
    },
    {
      "cell_type": "markdown",
      "metadata": {
        "id": "9-SI_kTr82RI"
      },
      "source": [
        "First, let's compute the error with default hyper-parameters. This can be used as a baseline."
      ]
    },
    {
      "cell_type": "code",
      "execution_count": null,
      "metadata": {
        "id": "rU6g-6PZ87DS"
      },
      "outputs": [],
      "source": [
        "from sklearn import metrics\n",
        "from sklearn.tree import DecisionTreeRegressor\n",
        "\n",
        "regr = DecisionTreeRegressor()\n",
        "np.random.seed(42)\n",
        "regr.fit(X_train, y_train)\n",
        "y_pred = regr.predict(X_test)\n",
        "print(f\"RMSE of tree with default hyper-params: {rmse(y_test, y_pred):.2f}\")\n"
      ]
    },
    {
      "cell_type": "markdown",
      "source": [
        "We will now use Grid Search to find the best combination of hyper-parameters. To do so, we need to define a grid with the values that we want to test for each parameter.\n",
        "\n",
        "Grid Search will test all combinations, therefore holds a problem of \"combinatorial explosion\" when it comes to efficiency."
      ],
      "metadata": {
        "id": "bKSF6kFkqFzg"
      }
    },
    {
      "cell_type": "code",
      "execution_count": null,
      "metadata": {
        "id": "GRknuZjUZp39"
      },
      "outputs": [],
      "source": [
        "from sklearn.model_selection import GridSearchCV, KFold\n",
        "from sklearn.model_selection import KFold\n",
        "\n",
        "# Search space\n",
        "param_grid = {\n",
        "    'max_depth': range(2, 16, 2),\n",
        "    'min_samples_split': range(2, 16, 2)\n",
        "}\n",
        "\n",
        "# 3-Fold cross validation for the inner loop.\n",
        "inner = KFold(n_splits=3, shuffle=True, random_state=42)\n",
        "\n",
        "# Definition of a 2-step process that self-adjusts 2 hyperparams\n",
        "regr = GridSearchCV(DecisionTreeRegressor(random_state=42), \n",
        "                    param_grid,\n",
        "                    scoring='neg_mean_squared_error',\n",
        "                    cv=inner, \n",
        "                    n_jobs=1,\n",
        "                    verbose=1)\n",
        "\n",
        "# Train the self-adjusting process\n",
        "regr.fit(X_train, y_train)\n",
        "\n",
        "# At this point, regr contains the model with the best hyper-parameters \n",
        "# found by Grid Search and trained on the complete X_train."
      ]
    },
    {
      "cell_type": "code",
      "execution_count": null,
      "metadata": {
        "id": "fZokHzT78udT"
      },
      "outputs": [],
      "source": [
        "# Now, the performance of regr is computed on the test partition\n",
        "y_pred = regr.predict(X_test)\n",
        "print(f\"RMSE of tree with hyper-parameter tuning (grid search): {rmse(y_test, y_pred):.2f}\")"
      ]
    },
    {
      "cell_type": "markdown",
      "metadata": {
        "id": "dTTNB93mZp4A"
      },
      "source": [
        "Let's now check the best hyper-parameters found and their score (MSE). We can see that they are near the extremes of parameter space."
      ]
    },
    {
      "cell_type": "code",
      "execution_count": null,
      "metadata": {
        "id": "nVeTEIFaZp4B"
      },
      "outputs": [],
      "source": [
        "regr.best_params_, -regr.best_score_"
      ]
    },
    {
      "cell_type": "markdown",
      "metadata": {
        "id": "Hk6rBqZSZp4I"
      },
      "source": [
        "# Randomized Search"
      ]
    },
    {
      "cell_type": "markdown",
      "metadata": {
        "id": "w7bZU45-Zp4I"
      },
      "source": [
        "Now, let's use **Randomized Search** instead of Grid Search. The approach is similar, but only a random sample of the combinations are tested.\n",
        "\n",
        "In this particular example, only 10 combinations of hyper-parameter values will be tried (`n_iter=10`)."
      ]
    },
    {
      "cell_type": "code",
      "execution_count": null,
      "metadata": {
        "id": "urjn49EAZp4J"
      },
      "outputs": [],
      "source": [
        "from sklearn.model_selection import RandomizedSearchCV, KFold\n",
        "from sklearn import metrics\n",
        "\n",
        "# Search space\n",
        "param_grid = {\n",
        "    'max_depth': range(2, 16, 2),\n",
        "    'min_samples_split': range(2, 16, 2)\n",
        "}\n",
        "\n",
        "# 3-Fold cross validation for the inner loop.\n",
        "inner = KFold(n_splits=3, shuffle=True, random_state=42)\n",
        "\n",
        "# Definition of a 2-step process that self-adjusts 2 hyperparams\n",
        "regr = RandomizedSearchCV(DecisionTreeRegressor(random_state=42), \n",
        "                          param_grid,\n",
        "                          scoring='neg_mean_squared_error',\n",
        "                          cv=inner, \n",
        "                          n_jobs=1,\n",
        "                          verbose=1,\n",
        "                          n_iter=10,\n",
        "                          random_state=42)\n",
        "\n",
        "# Train the self-adjusting process\n",
        "regr.fit(X_train, y_train)"
      ]
    },
    {
      "cell_type": "code",
      "execution_count": null,
      "metadata": {
        "id": "x2JJyJAn-6Ci"
      },
      "outputs": [],
      "source": [
        "# Now, the performance of regr is computed on the test partition\n",
        "y_pred = regr.predict(X_test)\n",
        "print(f\"RMSE of tree with hyper-parameter tuning (randomized search): {rmse(y_test, y_pred):.2f}\")"
      ]
    },
    {
      "cell_type": "code",
      "execution_count": null,
      "metadata": {
        "id": "9OzNtlMYZp4L"
      },
      "outputs": [],
      "source": [
        "regr.best_params_, -regr.best_score_"
      ]
    },
    {
      "cell_type": "markdown",
      "metadata": {
        "id": "Nk1-fYyoZp4N"
      },
      "source": [
        "For **Randomized Search**, we can define the search space with statistical distributions, rather than using particular values as we did before. Below you can see how to use a uniform distribution on integers between 2 and 16 by means of *randint*. For continuous hyper-parameters we could use continuous distributions such as *uniform* or *expon* (exponential)."
      ]
    },
    {
      "cell_type": "code",
      "execution_count": null,
      "metadata": {
        "id": "-vyv0cvAZp4O"
      },
      "outputs": [],
      "source": [
        "from scipy.stats import randint as sp_randint\n",
        "from sklearn.model_selection import RandomizedSearchCV, KFold\n",
        "from sklearn import metrics\n",
        "\n",
        "# Search space with integer uniform distributions\n",
        "param_grid = {\n",
        "    'max_depth': sp_randint(2, 16),\n",
        "    'min_samples_split': sp_randint(2, 16)\n",
        "}\n",
        "\n",
        "inner = KFold(n_splits=3, shuffle=True, random_state=42)\n",
        "regr = RandomizedSearchCV(DecisionTreeRegressor(random_state=42), \n",
        "                          param_grid,\n",
        "                          scoring='neg_mean_squared_error',\n",
        "                          cv=inner, \n",
        "                          n_jobs=1,\n",
        "                          verbose=1,\n",
        "                          n_iter=10,\n",
        "                          random_state=42)\n",
        "\n",
        "regr.fit(X_train, y_train)"
      ]
    },
    {
      "cell_type": "code",
      "execution_count": null,
      "metadata": {
        "id": "CRppQBOiA9fI"
      },
      "outputs": [],
      "source": [
        "# Now, the performance of regr is computed on the test partition\n",
        "y_pred = regr.predict(X_test)\n",
        "print(f\"RMSE of tree with hyper-parameter tuning (randomized search): {rmse(y_test, y_pred):.2f}\")"
      ]
    },
    {
      "cell_type": "code",
      "execution_count": null,
      "metadata": {
        "id": "qhMPDyL8Zp4Q"
      },
      "outputs": [],
      "source": [
        "regr.best_params_, -regr.best_score_"
      ]
    },
    {
      "cell_type": "markdown",
      "metadata": {
        "id": "je3hVWP9Zp4S"
      },
      "source": [
        "What if we wanted to do **model evaluation with 5-fold cross validation** and **hyper-parameter tuning with 3-fold cross validation**? \n",
        "\n",
        "This is called [nested cross validation](https://scikit-learn.org/stable/auto_examples/model_selection/plot_nested_cross_validation_iris.html). There is an external loop (for evaluating models) and an internal loop (for hyper-parameter tuning)."
      ]
    },
    {
      "cell_type": "code",
      "execution_count": null,
      "metadata": {
        "id": "rkJD1ifoZp4S"
      },
      "outputs": [],
      "source": [
        "from scipy.stats import uniform, expon\n",
        "from sklearn.model_selection import RandomizedSearchCV, cross_val_score\n",
        "from sklearn import metrics\n",
        "\n",
        "# Evaluation of model (outer loop)\n",
        "outer = KFold(n_splits=5, shuffle=True, random_state=42)\n",
        "\n",
        "# Search space\n",
        "param_grid = {'max_depth': list(range(2, 16, 2)),\n",
        "              'min_samples_split': list(range(2, 16, 2))}\n",
        "\n",
        "inner = KFold(n_splits=3, shuffle=True, random_state=42)\n",
        "\n",
        "# This is the internal 3-fold crossvalidation for hyper-parameter tuning\n",
        "regr = RandomizedSearchCV(DecisionTreeRegressor(random_state=42), \n",
        "                          param_grid,\n",
        "                          scoring='neg_mean_squared_error',\n",
        "                          # 3-fold for hyper-parameter tuning\n",
        "                          cv=inner, \n",
        "                          n_jobs=1, \n",
        "                          verbose=1,\n",
        "                          n_iter=10,\n",
        "                          random_state=42)"
      ]
    },
    {
      "cell_type": "code",
      "execution_count": null,
      "metadata": {
        "id": "VxeEDgv1Zp4U"
      },
      "outputs": [],
      "source": [
        "# This is the external 5-fold crossvalidation for model evaluation\n",
        "# Notice that regr is the model resulting of hyper-parameter tuning\n",
        "# For sklearn, higher scores are better. Given that MSE is an error (smaller is better), the corresponding score is -MSE\n",
        "scores = -cross_val_score(regr, \n",
        "                          X, \n",
        "                          y, \n",
        "                          scoring='neg_mean_squared_error', \n",
        "                          cv=outer)\n",
        "print(scores)\n",
        "\n",
        "# The score was MSE, we want RMSE\n",
        "scores = np.sqrt(scores)\n",
        "\n",
        "# The mean of the 5-fold crossvalidation is the final score of the model\n",
        "print(f\"{scores.mean()} +- {scores.std()}\")"
      ]
    },
    {
      "cell_type": "markdown",
      "metadata": {
        "id": "LdfqhEw9Zp4W"
      },
      "source": [
        "# Obtaining the final model (for deployment, sending to a competition...)"
      ]
    },
    {
      "cell_type": "markdown",
      "metadata": {
        "id": "O5w47vRHZp4X"
      },
      "source": [
        "If we need a final model, we can get it by fitting the regresor to all the available data. Let us remember that it does hyper-parameter tuning."
      ]
    },
    {
      "cell_type": "code",
      "execution_count": null,
      "metadata": {
        "id": "0Kvg0RX-Zp4X"
      },
      "outputs": [],
      "source": [
        "# Fitting again the randomized search\n",
        "regrFinal = regr.fit(X, y)"
      ]
    },
    {
      "cell_type": "code",
      "execution_count": null,
      "metadata": {
        "id": "GRfsLFLTZp4Z"
      },
      "outputs": [],
      "source": [
        "regr.best_params_, -regr.best_score_"
      ]
    },
    {
      "cell_type": "markdown",
      "metadata": {
        "id": "2XeQqmjrZp4e"
      },
      "source": [
        "# Bayesian Optimization"
      ]
    },
    {
      "cell_type": "markdown",
      "metadata": {
        "id": "YNwHbEIsZp4f"
      },
      "source": [
        "In Bayesian optimization, the search is directed towards those most-promising solutions, instead of just searching randomly.\n",
        "\n",
        "The `scikit-optimize`library will be used for this approach. We will use **holdout** for model evaluation and **3-fold cross validation** for hyper-parameter tuning."
      ]
    },
    {
      "cell_type": "code",
      "execution_count": null,
      "metadata": {
        "id": "qmxEk_w4cEb7"
      },
      "outputs": [],
      "source": [
        "from skopt import BayesSearchCV\n",
        "from skopt.space import Integer\n",
        "from skopt.plots import plot_objective, plot_histogram, plot_convergence\n",
        "from sklearn import metrics\n",
        "from sklearn.model_selection import KFold\n",
        "from sklearn.tree import DecisionTreeRegressor\n",
        "\n",
        "# Search space with integer uniform distributions\n",
        "param_grid = {\n",
        "    'max_depth': Integer(2, 16),\n",
        "    'min_samples_split': Integer(2, 16)\n",
        "}\n",
        "\n",
        "inner = KFold(n_splits=3, shuffle=True, random_state=42)\n",
        "regr = BayesSearchCV(DecisionTreeRegressor(random_state=42), \n",
        "                     param_grid,\n",
        "                     scoring='neg_mean_squared_error',\n",
        "                     cv=inner,    \n",
        "                     n_jobs=1, \n",
        "                     verbose=1,\n",
        "                     n_iter=20,\n",
        "                     random_state=42)\n",
        "\n",
        "regr.fit(X_train, y_train)\n",
        "\n",
        "# At this point, regr contains the model with the best hyper-parameters \n",
        "# found by Bayes search and trained on the complete X_train"
      ]
    },
    {
      "cell_type": "code",
      "execution_count": null,
      "metadata": {
        "id": "ZIqeUTQ6Zp4k"
      },
      "outputs": [],
      "source": [
        "# Now, the performance of regr is computed on the test partition\n",
        "y_pred = regr.predict(X_test)\n",
        "print(f\"RMSE of tree with hyper-parameter tuning (Bayes search): {rmse(y_test, y_pred):.2f}\")"
      ]
    },
    {
      "cell_type": "code",
      "execution_count": null,
      "metadata": {
        "id": "RlZ321QBZp4l"
      },
      "outputs": [],
      "source": [
        "regr.best_params_, -regr.best_score_"
      ]
    },
    {
      "cell_type": "markdown",
      "metadata": {
        "id": "2YSNFqSaF6Qx"
      },
      "source": [
        "We can check if the optimization has converged:"
      ]
    },
    {
      "cell_type": "code",
      "execution_count": null,
      "metadata": {
        "id": "FjW8T92qFu7f"
      },
      "outputs": [],
      "source": [
        "_ = plot_convergence(regr.optimizer_results_[0])\n",
        "plt.show()"
      ]
    },
    {
      "cell_type": "code",
      "execution_count": null,
      "metadata": {
        "id": "6yEHkN0ECMJ-"
      },
      "outputs": [],
      "source": [
        "_ = plot_objective(regr.optimizer_results_[0],\n",
        "                   dimensions=['max_depth', 'min_samples_split'],\n",
        "                   n_minimum_search=int(1e8))\n",
        "plt.show()"
      ]
    },
    {
      "cell_type": "markdown",
      "source": [
        "We can try another alternative with different models:"
      ],
      "metadata": {
        "id": "4evluWRjDNuA"
      }
    },
    {
      "cell_type": "code",
      "execution_count": null,
      "metadata": {
        "id": "qiyxunjnCMKA"
      },
      "outputs": [],
      "source": [
        "from skopt import BayesSearchCV\n",
        "from skopt.space import Integer, Real, Categorical\n",
        "from sklearn import metrics\n",
        "from sklearn.pipeline import Pipeline\n",
        "from sklearn.neighbors import KNeighborsRegressor\n",
        "from sklearn.tree import DecisionTreeRegressor\n",
        "\n",
        "pipe = Pipeline([\n",
        "    ('model', None)\n",
        "])\n",
        "\n",
        "# Search space for DT\n",
        "param_grid1 = {\n",
        "    'model': [DecisionTreeRegressor(random_state=42)],\n",
        "    'model__max_depth': Integer(2, 16),\n",
        "    'model__min_samples_split': Integer(2, 16)\n",
        "}\n",
        "\n",
        "# Search space for KNN\n",
        "param_grid2 = {\n",
        "    'model': [KNeighborsRegressor()],\n",
        "    'model__n_neighbors': Integer(2, 10)\n",
        "}\n",
        "\n",
        "# List of the two spaces\n",
        "param_grid = [param_grid1, param_grid2]\n",
        "\n",
        "inner = KFold(n_splits=3, shuffle=True, random_state=42)\n",
        "\n",
        "regr = BayesSearchCV(pipe, \n",
        "                     param_grid,\n",
        "                     scoring='neg_mean_squared_error',\n",
        "                     cv=inner,    \n",
        "                     n_jobs=1, verbose=1,\n",
        "                     n_iter=20,\n",
        "                     random_state=42)\n",
        "\n",
        "regr.fit(X=X_train, y=y_train)"
      ]
    },
    {
      "cell_type": "code",
      "execution_count": null,
      "metadata": {
        "id": "gzW6Fa5WCMKB"
      },
      "outputs": [],
      "source": [
        "# Now, the performance of regr is computed on the test partition\n",
        "y_pred = regr.predict(X_test)\n",
        "print(f\"RMSE of tree with hyper-parameter tuning (Bayes search): {rmse(y_test, y_pred):.2f}\")"
      ]
    },
    {
      "cell_type": "code",
      "execution_count": null,
      "metadata": {
        "id": "jWcVZWVPCMKC"
      },
      "outputs": [],
      "source": [
        "regr.best_params_, -regr.best_score_"
      ]
    }
  ],
  "metadata": {
    "colab": {
      "provenance": []
    },
    "kernelspec": {
      "display_name": "Python 3 (ipykernel)",
      "language": "python",
      "name": "python3"
    },
    "language_info": {
      "codemirror_mode": {
        "name": "ipython",
        "version": 3
      },
      "file_extension": ".py",
      "mimetype": "text/x-python",
      "name": "python",
      "nbconvert_exporter": "python",
      "pygments_lexer": "ipython3",
      "version": "3.9.15"
    }
  },
  "nbformat": 4,
  "nbformat_minor": 0
}