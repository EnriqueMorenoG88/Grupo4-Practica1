{
  "cells": [
    {
      "cell_type": "markdown",
      "source": [
        "# INTRODUCCIÓN"
      ],
      "metadata": {
        "id": "q-RNTXmObG2_"
      }
    },
    {
      "cell_type": "markdown",
      "metadata": {
        "id": "Aihmm4DZb_f0"
      },
      "source": [
        "Importamos las librerías necesarias para el estudio de este caso práctico."
      ]
    },
    {
      "cell_type": "code",
      "execution_count": null,
      "metadata": {
        "id": "J8oMo8S6EEgp"
      },
      "outputs": [],
      "source": [
        "#Importaciones básicas: librerías y otros aspectos\n",
        "\n",
        "import numpy as np\n",
        "import time\n",
        "import pandas as pd\n",
        "import matplotlib.pyplot as plt\n",
        "import seaborn as sns\n",
        "from string import ascii_letters\n",
        "from sklearn.model_selection import train_test_split\n",
        "\n",
        "from sklearn.dummy import DummyRegressor\n",
        "\n",
        "from sklearn.model_selection import PredefinedSplit\n",
        "from sklearn.model_selection import GridSearchCV\n",
        "from sklearn import metrics\n",
        "\n",
        "#Importaciones Para KNN\n",
        "\n",
        "from joblib import dump\n",
        "from sklearn.model_selection import train_test_split\n",
        "from sklearn.preprocessing import MinMaxScaler\n",
        "from sklearn.preprocessing import RobustScaler\n",
        "from sklearn.neighbors import KNeighborsClassifier\n",
        "\n",
        "#Para árboles\n",
        "\n",
        "from sklearn import tree\n",
        "\n",
        "#PCA\n",
        "\n",
        "from sklearn.decomposition import PCA\n",
        "\n",
        "\n"
      ]
    },
    {
      "cell_type": "markdown",
      "metadata": {
        "id": "S_vLUF56cQXZ"
      },
      "source": [
        "Lo primero de todo será importar los datos que necesitamos para poder trabajar con ellos.\n"
      ]
    },
    {
      "cell_type": "code",
      "execution_count": null,
      "metadata": {
        "id": "hL6-d0HUb4gJ"
      },
      "outputs": [],
      "source": [
        "#Carga de los datos  de estudio\n",
        "\n",
        "disp_df = pd.read_csv(\"disp_st4ns1.txt\", index_col=0)\n",
        "\n",
        "#Opciones de display para que nos muestre la tabla entera\n",
        "\n",
        "pd.options.display.max_columns = 100\n",
        "pd.options.display.max_rows = 5000\n",
        "\n",
        "#Display del dataset\n",
        "\n",
        "#disp_df"
      ]
    },
    {
      "cell_type": "markdown",
      "metadata": {
        "id": "moOg1eXdcZFo"
      },
      "source": [
        "#ANALISIS EXPLORATORIO DE DATOS (EDA)\n"
      ]
    },
    {
      "cell_type": "markdown",
      "metadata": {
        "id": "hgi3jiBvjbqo"
      },
      "source": [
        "En el análisis exploratorio de datos, procederemos a analizar brevemente el conjunto de datos proporcionado de la siguiente manera: COMPLETAR"
      ]
    },
    {
      "cell_type": "markdown",
      "metadata": {
        "id": "xHpYNAnpkRtB"
      },
      "source": [
        "Para empezar, comprobamos que no existen missing values en el conjunto de datos:"
      ]
    },
    {
      "cell_type": "code",
      "execution_count": null,
      "metadata": {
        "colab": {
          "base_uri": "https://localhost:8080/"
        },
        "id": "5vG6R6fBj5Q4",
        "outputId": "70fdaf7f-0190-478d-f47a-cfa33e82a410"
      },
      "outputs": [
        {
          "output_type": "stream",
          "name": "stdout",
          "text": [
            "0\n"
          ]
        }
      ],
      "source": [
        "print(disp_df.isnull().values.sum())"
      ]
    },
    {
      "cell_type": "markdown",
      "metadata": {
        "id": "jwh5G30NkdXU"
      },
      "source": [
        "Después, vamos a mostrar algunos parámetros de la tabla: media, std..etc."
      ]
    },
    {
      "cell_type": "code",
      "execution_count": null,
      "metadata": {
        "id": "NUjkyh9-j3vg"
      },
      "outputs": [],
      "source": [
        "disp_df.describe()"
      ]
    },
    {
      "cell_type": "markdown",
      "metadata": {
        "id": "boaE7obykzDB"
      },
      "source": [
        "Lo primero, analizar las variables de manera individual: al haber 75 features divididos en 15 variables meteorológicas, comprobaremos una a una si son constantes o no aportan información. Si lo son, procederemos a eliminarlas."
      ]
    },
    {
      "cell_type": "code",
      "source": [
        "describe_var = disp_df.describe()\n",
        "\n",
        "max_values = describe_var.loc['max']\n",
        "min_values = describe_var.loc['min']\n",
        "\n",
        "cols_to_drop = []\n",
        "for column_name, max_value in max_values.iteritems():\n",
        "  if max_value == min_values[column_name]:\n",
        "    cols_to_drop.append(column_name)\n",
        "\n",
        "describe_var = describe_var.drop(cols_to_drop, axis=1)\n",
        "\n",
        "print(describe_var)"
      ],
      "metadata": {
        "id": "9hg2HiRxe9td"
      },
      "execution_count": null,
      "outputs": []
    },
    {
      "cell_type": "markdown",
      "source": [
        "En nuestro caso, no se ha eliminado ninguna variable al todas, por mínimas que sean, aportan información.\n",
        "((tabla de maximos y minimos????)"
      ],
      "metadata": {
        "id": "HwioynxNgq5U"
      }
    },
    {
      "cell_type": "markdown",
      "source": [
        "Ahora, vamos a crear una matriz de correlación para ver la similitud entre pares de variables. También, lo comprobaremos de manera gráfica con un heatmap:\n",
        "\n"
      ],
      "metadata": {
        "id": "jOy8tDyygbnT"
      }
    },
    {
      "cell_type": "code",
      "source": [
        "disp_df.corr()"
      ],
      "metadata": {
        "id": "LOtyoHjwpqoe"
      },
      "execution_count": null,
      "outputs": []
    },
    {
      "cell_type": "code",
      "source": [
        "sns.set_theme(style=\"white\")\n",
        "\n",
        "median = np.median(disp_df)\n",
        "\n",
        "corr_matrix = disp_df.corr()\n",
        "\n",
        "# Generate a mask for the upper triangle\n",
        "mask = np.triu(np.ones_like(corr_matrix, dtype=bool))\n",
        "\n",
        "# Set up the matplotlib figure\n",
        "f, ax = plt.subplots(figsize=(76, 76))\n",
        "\n",
        "# Generate a custom diverging colormap\n",
        "cmap = sns.diverging_palette(230, 20, as_cmap=True)\n",
        "\n",
        "# Draw the heatmap with the mask and correct aspect ratio\n",
        "sns.heatmap(corr_matrix, annot = True, mask=mask, cmap=cmap, vmin = -1, vmax=1, center=0,\n",
        "            square=True, linewidths=.5, cbar_kws={\"shrink\": .5})\n"
      ],
      "metadata": {
        "id": "i9ldQRKgfmXH"
      },
      "execution_count": null,
      "outputs": []
    },
    {
      "cell_type": "markdown",
      "source": [
        "# SEPARACIÓN DE LOS DATOS\n",
        "\n"
      ],
      "metadata": {
        "id": "uht14XQ3YMrI"
      }
    },
    {
      "cell_type": "markdown",
      "source": [
        "Ahora vamos a separar el data set en el conjunto de train y test dividido por años, en concreto los 10 primeros y los dos últimos años:\n",
        "\n"
      ],
      "metadata": {
        "id": "utbl2dTibW5e"
      }
    },
    {
      "cell_type": "code",
      "source": [
        "X = disp_df.iloc[:, 0:75]\n",
        "y = disp_df.iloc[:, 75]\n",
        "\n",
        "X_train, X_test, y_train, y_test = train_test_split(X, y, test_size=2/12, shuffle = False)\n",
        "\n",
        "print(X_train.shape, y_train.shape)"
      ],
      "metadata": {
        "id": "N6_X7fXkdghh",
        "colab": {
          "base_uri": "https://localhost:8080/"
        },
        "outputId": "651051a1-0bcc-4723-e60c-c58847dcac6d"
      },
      "execution_count": null,
      "outputs": [
        {
          "output_type": "stream",
          "name": "stdout",
          "text": [
            "(3650, 75) (3650,)\n"
          ]
        }
      ]
    },
    {
      "cell_type": "markdown",
      "source": [
        "#METODOS BÁSICOS"
      ],
      "metadata": {
        "id": "PGNAquHhksDh"
      }
    },
    {
      "cell_type": "markdown",
      "source": [
        "Los tres métodos básicos que se piden en esta práctica son: Vecinos Más Cercanos (KNN o K  Nearest Neighbors), Árboles de decisión y regresión lineal. "
      ],
      "metadata": {
        "id": "xPPxiyupevSp"
      }
    },
    {
      "cell_type": "code",
      "source": [
        "def rmse (y_test, y_test_pred):\n",
        "  \"\"\" Computation of root mean squared error \"\"\"\n",
        "  return np.sqrt(metrics.mean_squared_error(y_test, y_test_pred))\n",
        "\n",
        "def mae (y_test, y_test_pred):\n",
        "  \"\"\" Computation of mean absolute error \"\"\"\n",
        "  return metrics.mean_absolute_error(y_test, y_test_pred)\n",
        "\n"
      ],
      "metadata": {
        "id": "DuSV4dJ27zsH"
      },
      "execution_count": null,
      "outputs": []
    },
    {
      "cell_type": "markdown",
      "source": [
        "Antes de empezar a realizarlos, vamos a crear 2 modelos regresores \"dummy\" utilizando tres métodos estadísticos distintos. Así, podremos comparar su eficiencia con los modelos que vayamos realizando más tarde."
      ],
      "metadata": {
        "id": "vqOrGltdfAZl"
      }
    },
    {
      "cell_type": "code",
      "source": [
        "dummy_mean = DummyRegressor()\n",
        "dummy_mean.fit(X_train, y_train)\n",
        "dummy_mean_pred = dummy_mean.predict(X_test)\n",
        "\n",
        "dummy_median = DummyRegressor(strategy='median')\n",
        "dummy_median.fit(X_train, y_train)\n",
        "dummy_median_pred = dummy_median.predict(X_test)\n",
        "\n",
        "\n",
        "print(\"MAE del Dummy media:\", mae(y_test,dummy_mean_pred))\n",
        "print(\"RMSE del Dummy mediana:\", rmse(y_test,dummy_median_pred))"
      ],
      "metadata": {
        "colab": {
          "base_uri": "https://localhost:8080/"
        },
        "id": "HHI6Wk1Leu_0",
        "outputId": "0f69930f-92f6-4f74-8c07-f6ebad0662c0"
      },
      "execution_count": null,
      "outputs": [
        {
          "output_type": "stream",
          "name": "stdout",
          "text": [
            "MAE del Dummy media: 6490928.170088197\n",
            "RMSE del Dummy mediana: 7646362.522614248\n"
          ]
        }
      ]
    },
    {
      "cell_type": "markdown",
      "source": [
        "## KNN"
      ],
      "metadata": {
        "id": "Dg-tix5JaNav"
      }
    },
    {
      "cell_type": "markdown",
      "source": [
        "El primer método que vamos a realizar es el de Vecinos más cercanos (KNN). Vamos a seguir unos pasos claros a la hora de crear, probar y ajustar el modelo:\n",
        "\n",
        "*   Crear el modelo y entrenarlo para ver su resultado genérico\n",
        "*   Utilizar el Predefinedsplit para hacer una Validación Cruzada sin desordenar los datos\n",
        "*   Ajustar el hiperparámetro usando el PredefinedSplit calculado anteriormente\n",
        "*   Volver a entrenar el modelo con el parámetro optimizado\n",
        "\n",
        "Al no poder desordenar los datos debido a la no-aleatoriedad de los mismos (están ordenados por años) no se podrá usar el Cross Validation convencional en ningún modelo, aunque si utilizaremos el predefined split para ajustar los hipérparametros.\n",
        "\n"
      ],
      "metadata": {
        "id": "1gFb-ICzWqSl"
      }
    },
    {
      "cell_type": "markdown",
      "source": [
        "Antes de nada, vamos a normalizar los datos y dejarlos así para el resto de modelos:"
      ],
      "metadata": {
        "id": "NwolrDevqOTQ"
      }
    },
    {
      "cell_type": "code",
      "source": [
        "# Normalización de los datos\n",
        "\n",
        "scaler = MinMaxScaler()\n",
        "X_train_normalizado = scaler.fit_transform(X_train)\n",
        "X_test_normalizado = scaler.transform(X_test)"
      ],
      "metadata": {
        "colab": {
          "base_uri": "https://localhost:8080/"
        },
        "id": "L84uT58HqOER",
        "outputId": "080cdf9e-9714-4dcf-b6ce-1382c34792f1"
      },
      "execution_count": null,
      "outputs": [
        {
          "output_type": "execute_result",
          "data": {
            "text/plain": [
              "array([[0.        , 0.        , 0.        , ..., 0.24962631, 0.232826  ,\n",
              "        0.22757815],\n",
              "       [0.        , 0.        , 0.        , ..., 0.1758844 , 0.15425751,\n",
              "        0.14402571],\n",
              "       [0.        , 0.        , 0.        , ..., 0.25610364, 0.24084739,\n",
              "        0.23371312],\n",
              "       ...,\n",
              "       [0.03744549, 0.00439498, 0.0065114 , ..., 0.17787743, 0.21184698,\n",
              "        0.20858896],\n",
              "       [0.        , 0.        , 0.        , ..., 0.21026408, 0.2143151 ,\n",
              "        0.19661116],\n",
              "       [0.        , 0.        , 0.        , ..., 0.26606876, 0.24372686,\n",
              "        0.23867952]])"
            ]
          },
          "metadata": {},
          "execution_count": 49
        }
      ]
    },
    {
      "cell_type": "markdown",
      "source": [
        "También vamos a dejar las particiones del predefinedsplit hechas"
      ],
      "metadata": {
        "id": "ox12si-NqnML"
      }
    },
    {
      "cell_type": "code",
      "source": [
        "N_train = 7 * 365\n",
        "N_valid = 3 * 365\n",
        "\n",
        "selector = [-1] * N_train + [0] * N_valid\n",
        "inner = PredefinedSplit(selector)\n",
        "\n",
        "inner.get_n_splits(X_train)\n",
        "\n",
        "for train, valid in inner.split(X_train):\n",
        "  print(f\"Size of the train set: {train.shape}\")\n",
        "  print(f\"Size of the valid set: {valid.shape}\")\n"
      ],
      "metadata": {
        "colab": {
          "base_uri": "https://localhost:8080/"
        },
        "id": "0KWltKzrqt0s",
        "outputId": "657f6474-a618-4353-86b1-999f235b1209"
      },
      "execution_count": null,
      "outputs": [
        {
          "output_type": "stream",
          "name": "stdout",
          "text": [
            "Size of the train set: (2555,)\n",
            "Size of the valid set: (1095,)\n",
            "Indices of the train set: [   0    1    2 ... 2552 2553 2554]\n",
            "Indices of the valid set: [2555 2556 2557 ... 3647 3648 3649]\n"
          ]
        }
      ]
    },
    {
      "cell_type": "markdown",
      "source": [
        "Creamos el modelo, lo fiteamos y computamos su acurracy con el hiperparámetro por defecto:"
      ],
      "metadata": {
        "id": "8Ucx8IhsqWdu"
      }
    },
    {
      "cell_type": "code",
      "source": [
        "# Crear el modelo\n",
        "Knn_model= KNeighborsClassifier()\n",
        "\n",
        "# Fiteamos el modelo\n",
        "start_knn = time.time()\n",
        "Knn_model.fit(X_train_normalizado, y_train)\n",
        "\n",
        "# Computamos la predicción del modelo\n",
        "y_prediccion_knn = Knn_model.predict(X_test_normalizado)\n",
        "\n",
        "end_knn = time.time()\n",
        "\n",
        "print(\"MAE del KNN:\", mae(y_test,y_prediccion_knn))\n",
        "print(\"RMSE del KNN:\", rmse(y_test,y_prediccion_knn))\n",
        "print(\"Tiempo de ejecución para entrenar el modelo: \", end_knn - start_knn)\n"
      ],
      "metadata": {
        "id": "zbtimTa9WwiJ",
        "colab": {
          "base_uri": "https://localhost:8080/",
          "height": 236
        },
        "outputId": "82206de3-d34d-4beb-b33d-ea420c894fa6"
      },
      "execution_count": null,
      "outputs": [
        {
          "output_type": "error",
          "ename": "AttributeError",
          "evalue": "ignored",
          "traceback": [
            "\u001b[0;31m---------------------------------------------------------------------------\u001b[0m",
            "\u001b[0;31mAttributeError\u001b[0m                            Traceback (most recent call last)",
            "\u001b[0;32m<ipython-input-104-10a144095dba>\u001b[0m in \u001b[0;36m<cell line: 13>\u001b[0;34m()\u001b[0m\n\u001b[1;32m     11\u001b[0m \u001b[0mend_knn\u001b[0m \u001b[0;34m=\u001b[0m \u001b[0mtime\u001b[0m\u001b[0;34m.\u001b[0m\u001b[0mtime\u001b[0m\u001b[0;34m(\u001b[0m\u001b[0;34m)\u001b[0m\u001b[0;34m\u001b[0m\u001b[0;34m\u001b[0m\u001b[0m\n\u001b[1;32m     12\u001b[0m \u001b[0;34m\u001b[0m\u001b[0m\n\u001b[0;32m---> 13\u001b[0;31m \u001b[0mprint\u001b[0m\u001b[0;34m(\u001b[0m\u001b[0mKnn_model\u001b[0m\u001b[0;34m.\u001b[0m\u001b[0mbest_score_\u001b[0m\u001b[0;34m)\u001b[0m\u001b[0;34m\u001b[0m\u001b[0;34m\u001b[0m\u001b[0m\n\u001b[0m\u001b[1;32m     14\u001b[0m \u001b[0;34m\u001b[0m\u001b[0m\n\u001b[1;32m     15\u001b[0m \u001b[0mprint\u001b[0m\u001b[0;34m(\u001b[0m\u001b[0;34m\"MAE del KNN:\"\u001b[0m\u001b[0;34m,\u001b[0m \u001b[0mmae\u001b[0m\u001b[0;34m(\u001b[0m\u001b[0my_test\u001b[0m\u001b[0;34m,\u001b[0m\u001b[0my_prediccion_knn\u001b[0m\u001b[0;34m)\u001b[0m\u001b[0;34m)\u001b[0m\u001b[0;34m\u001b[0m\u001b[0;34m\u001b[0m\u001b[0m\n",
            "\u001b[0;31mAttributeError\u001b[0m: 'KNeighborsClassifier' object has no attribute 'best_score_'"
          ]
        }
      ]
    },
    {
      "cell_type": "markdown",
      "source": [
        "Encontrar el mejor hiperparámetro con GridSearch"
      ],
      "metadata": {
        "id": "7AjouYWniJ2T"
      }
    },
    {
      "cell_type": "code",
      "source": [
        "#No pares para evitar empates\n",
        "parametros_a_ajustar_knn = {\n",
        "    'n_neighbors': [3,5,7,9,11,13,15],\n",
        "    'weights': ['uniform', 'distance'],\n",
        "    'p': [1,2]\n",
        "}\n",
        "\n",
        "Knn_model_ajust = KNeighborsClassifier()\n",
        "\n",
        "grid_search_knn = GridSearchCV(Knn_model_ajust, param_grid = parametros_a_ajustar_knn, cv = inner, scoring ='neg_mean_squared_error')\n",
        "\n",
        "start_knn_ajust = time.time()\n",
        "\n",
        "grid_search_knn.fit(X_train_normalizado, y_train)\n",
        "\n",
        "mejor_modelo_KNN = grid_search_knn.best_estimator_\n",
        "\n",
        "y_prediccion_ajustado = mejor_modelo_KNN.predict(X_test_normalizado)\n",
        "\n",
        "end_knn_ajust = time.time()"
      ],
      "metadata": {
        "id": "tUS9HwW8lYmc"
      },
      "execution_count": null,
      "outputs": []
    },
    {
      "cell_type": "markdown",
      "source": [
        "Ahora, ya teniendo los hiperparámetros en orden, solo queda volver a entrenar el modelo y ver su accuracy, esta vez correctamente:"
      ],
      "metadata": {
        "id": "lWWYXT0arBWC"
      }
    },
    {
      "cell_type": "code",
      "source": [
        "print(\"MAE del KNN ajustado:\", mae(y_test,y_prediccion_ajustado))\n",
        "print(\"RMSE del KNN ajustado:\", rmse(y_test,y_prediccion_ajustado))\n",
        "print(\"Tiempo de ejecución para entrenar el modelo: \", end_knn_ajust - start_knn_ajust)"
      ],
      "metadata": {
        "colab": {
          "base_uri": "https://localhost:8080/"
        },
        "id": "PIJpz8LtrKi4",
        "outputId": "ba6510e5-6819-4c67-8269-aad6ae65dbab"
      },
      "execution_count": null,
      "outputs": [
        {
          "output_type": "stream",
          "name": "stdout",
          "text": [
            "MAE del KNN ajustado: 2985800.5479452056\n",
            "RMSE del KNN ajustado: 4307815.449427792\n",
            "Tiempo de ejecución para entrenar el modelo:  7.800419092178345\n"
          ]
        }
      ]
    },
    {
      "cell_type": "markdown",
      "source": [
        "Opcional: encontrar el mejor hiperparámetro por fuerza bruta, graficos comparando tiempo de ejecución??"
      ],
      "metadata": {
        "id": "dldjUPFvZYb3"
      }
    },
    {
      "cell_type": "markdown",
      "source": [
        "## ÁRBOLES DE REGRESIÓN"
      ],
      "metadata": {
        "id": "cvaLqvyLaSTm"
      }
    },
    {
      "cell_type": "markdown",
      "source": [
        "Con los árboles vamos a seguir exactamente el mismo proceso que con Knn: crear el modelo, ajustar hiperparámetros con PredefinedSplit y GridSearchCV, y luego volver a entrenarlo:"
      ],
      "metadata": {
        "id": "BdZwfzwIoyiA"
      }
    },
    {
      "cell_type": "code",
      "source": [
        "arbol_decision = tree.DecisionTreeClassifier()\n",
        "\n",
        "start_arbol = time.time()\n",
        "\n",
        "arbol_decision.fit(X_train_normalizado, y_train)\n",
        "\n",
        "y_prediccion_arbol = arbol_decision.predict(X_test_normalizado)\n",
        "\n",
        "end_arbol = time.time()\n",
        "\n",
        "print(\"MAE del árbol de decisión ajustado:\", mae(y_test,y_prediccion_arbol))\n",
        "print(\"RMSE del árbol de decisión ajustado::\", rmse(y_test,y_prediccion_arbol))\n",
        "print(\"Tiempo de ejecución para entrenar el modelo: \", end_arbol - start_arbol)\n"
      ],
      "metadata": {
        "id": "M2_qzZxRe8BZ",
        "colab": {
          "base_uri": "https://localhost:8080/"
        },
        "outputId": "648c9e57-9863-4c45-a1b4-0a13f1281b55"
      },
      "execution_count": null,
      "outputs": [
        {
          "output_type": "stream",
          "name": "stdout",
          "text": [
            "MAE del árbol de decisión ajustado: 3569952.7397260275\n",
            "RMSE del árbol de decisión ajustado:: 5036636.232587277\n",
            "Tiempo de ejecución para entrenar el modelo:  48.347015142440796\n"
          ]
        }
      ]
    },
    {
      "cell_type": "markdown",
      "source": [
        "Gridsearch: esto está bien??????"
      ],
      "metadata": {
        "id": "ce2qBlNUabIx"
      }
    },
    {
      "cell_type": "code",
      "source": [
        "parametros_a_ajustar_arbol = {\n",
        "    'max_depth': range(2, 16, 2),\n",
        "    'min_samples_split': range(2, 16, 2)\n",
        "}\n",
        "\n",
        "arbol_dec_ajust = tree.DecisionTreeClassifier()\n",
        "\n",
        "grid_search_arbol = GridSearchCV( arbol_dec_ajust, param_grid = parametros_a_ajustar_arbol, cv = inner, scoring='neg_mean_squared_error')\n",
        "\n",
        "start_arbol_ajust = time.time()\n",
        "\n",
        "grid_search_arbol.fit(X_train_normalizado, y_train)\n",
        "\n",
        "mejor_arbol = grid_search_arbol.best_estimator_\n",
        "\n",
        "y_prediccion_ajustado_arbol = grid_search_arbol.predict(X_test_normalizado)\n",
        "\n",
        "end_arbol_ajust = time.time()\n"
      ],
      "metadata": {
        "id": "izHQbUdpaZih",
        "colab": {
          "base_uri": "https://localhost:8080/",
          "height": 381
        },
        "outputId": "cd930187-6819-4e67-e115-0df64e151d97"
      },
      "execution_count": null,
      "outputs": [
        {
          "output_type": "error",
          "ename": "KeyboardInterrupt",
          "evalue": "ignored",
          "traceback": [
            "\u001b[0;31m---------------------------------------------------------------------------\u001b[0m",
            "\u001b[0;31mKeyboardInterrupt\u001b[0m                         Traceback (most recent call last)",
            "\u001b[0;32m<ipython-input-103-4bf7cceab9c5>\u001b[0m in \u001b[0;36m<cell line: 12>\u001b[0;34m()\u001b[0m\n\u001b[1;32m     10\u001b[0m \u001b[0mstart_arbol_ajust\u001b[0m \u001b[0;34m=\u001b[0m \u001b[0mtime\u001b[0m\u001b[0;34m.\u001b[0m\u001b[0mtime\u001b[0m\u001b[0;34m(\u001b[0m\u001b[0;34m)\u001b[0m\u001b[0;34m\u001b[0m\u001b[0;34m\u001b[0m\u001b[0m\n\u001b[1;32m     11\u001b[0m \u001b[0;34m\u001b[0m\u001b[0m\n\u001b[0;32m---> 12\u001b[0;31m \u001b[0mgrid_search_arbol\u001b[0m\u001b[0;34m.\u001b[0m\u001b[0mfit\u001b[0m\u001b[0;34m(\u001b[0m\u001b[0mX_train_normalizado\u001b[0m\u001b[0;34m,\u001b[0m \u001b[0my_train\u001b[0m\u001b[0;34m)\u001b[0m\u001b[0;34m\u001b[0m\u001b[0;34m\u001b[0m\u001b[0m\n\u001b[0m\u001b[1;32m     13\u001b[0m \u001b[0;34m\u001b[0m\u001b[0m\n\u001b[1;32m     14\u001b[0m \u001b[0mmejor_arbol\u001b[0m \u001b[0;34m=\u001b[0m \u001b[0mgrid_search_arbol\u001b[0m\u001b[0;34m.\u001b[0m\u001b[0mbest_estimator_\u001b[0m\u001b[0;34m\u001b[0m\u001b[0;34m\u001b[0m\u001b[0m\n",
            "\u001b[0;32m/usr/local/lib/python3.9/dist-packages/sklearn/model_selection/_search.py\u001b[0m in \u001b[0;36mfit\u001b[0;34m(self, X, y, groups, **fit_params)\u001b[0m\n\u001b[1;32m    872\u001b[0m                 \u001b[0;32mreturn\u001b[0m \u001b[0mresults\u001b[0m\u001b[0;34m\u001b[0m\u001b[0;34m\u001b[0m\u001b[0m\n\u001b[1;32m    873\u001b[0m \u001b[0;34m\u001b[0m\u001b[0m\n\u001b[0;32m--> 874\u001b[0;31m             \u001b[0mself\u001b[0m\u001b[0;34m.\u001b[0m\u001b[0m_run_search\u001b[0m\u001b[0;34m(\u001b[0m\u001b[0mevaluate_candidates\u001b[0m\u001b[0;34m)\u001b[0m\u001b[0;34m\u001b[0m\u001b[0;34m\u001b[0m\u001b[0m\n\u001b[0m\u001b[1;32m    875\u001b[0m \u001b[0;34m\u001b[0m\u001b[0m\n\u001b[1;32m    876\u001b[0m             \u001b[0;31m# multimetric is determined here because in the case of a callable\u001b[0m\u001b[0;34m\u001b[0m\u001b[0;34m\u001b[0m\u001b[0m\n",
            "\u001b[0;32m/usr/local/lib/python3.9/dist-packages/sklearn/model_selection/_search.py\u001b[0m in \u001b[0;36m_run_search\u001b[0;34m(self, evaluate_candidates)\u001b[0m\n\u001b[1;32m   1386\u001b[0m     \u001b[0;32mdef\u001b[0m \u001b[0m_run_search\u001b[0m\u001b[0;34m(\u001b[0m\u001b[0mself\u001b[0m\u001b[0;34m,\u001b[0m \u001b[0mevaluate_candidates\u001b[0m\u001b[0;34m)\u001b[0m\u001b[0;34m:\u001b[0m\u001b[0;34m\u001b[0m\u001b[0;34m\u001b[0m\u001b[0m\n\u001b[1;32m   1387\u001b[0m         \u001b[0;34m\"\"\"Search all candidates in param_grid\"\"\"\u001b[0m\u001b[0;34m\u001b[0m\u001b[0;34m\u001b[0m\u001b[0m\n\u001b[0;32m-> 1388\u001b[0;31m         \u001b[0mevaluate_candidates\u001b[0m\u001b[0;34m(\u001b[0m\u001b[0mParameterGrid\u001b[0m\u001b[0;34m(\u001b[0m\u001b[0mself\u001b[0m\u001b[0;34m.\u001b[0m\u001b[0mparam_grid\u001b[0m\u001b[0;34m)\u001b[0m\u001b[0;34m)\u001b[0m\u001b[0;34m\u001b[0m\u001b[0;34m\u001b[0m\u001b[0m\n\u001b[0m\u001b[1;32m   1389\u001b[0m \u001b[0;34m\u001b[0m\u001b[0m\n\u001b[1;32m   1390\u001b[0m \u001b[0;34m\u001b[0m\u001b[0m\n",
            "\u001b[0;32m/usr/local/lib/python3.9/dist-packages/sklearn/model_selection/_search.py\u001b[0m in \u001b[0;36mevaluate_candidates\u001b[0;34m(candidate_params, cv, more_results)\u001b[0m\n\u001b[1;32m    819\u001b[0m                     )\n\u001b[1;32m    820\u001b[0m \u001b[0;34m\u001b[0m\u001b[0m\n\u001b[0;32m--> 821\u001b[0;31m                 out = parallel(\n\u001b[0m\u001b[1;32m    822\u001b[0m                     delayed(_fit_and_score)(\n\u001b[1;32m    823\u001b[0m                         \u001b[0mclone\u001b[0m\u001b[0;34m(\u001b[0m\u001b[0mbase_estimator\u001b[0m\u001b[0;34m)\u001b[0m\u001b[0;34m,\u001b[0m\u001b[0;34m\u001b[0m\u001b[0;34m\u001b[0m\u001b[0m\n",
            "\u001b[0;32m/usr/local/lib/python3.9/dist-packages/sklearn/utils/parallel.py\u001b[0m in \u001b[0;36m__call__\u001b[0;34m(self, iterable)\u001b[0m\n\u001b[1;32m     61\u001b[0m             \u001b[0;32mfor\u001b[0m \u001b[0mdelayed_func\u001b[0m\u001b[0;34m,\u001b[0m \u001b[0margs\u001b[0m\u001b[0;34m,\u001b[0m \u001b[0mkwargs\u001b[0m \u001b[0;32min\u001b[0m \u001b[0miterable\u001b[0m\u001b[0;34m\u001b[0m\u001b[0;34m\u001b[0m\u001b[0m\n\u001b[1;32m     62\u001b[0m         )\n\u001b[0;32m---> 63\u001b[0;31m         \u001b[0;32mreturn\u001b[0m \u001b[0msuper\u001b[0m\u001b[0;34m(\u001b[0m\u001b[0;34m)\u001b[0m\u001b[0;34m.\u001b[0m\u001b[0m__call__\u001b[0m\u001b[0;34m(\u001b[0m\u001b[0miterable_with_config\u001b[0m\u001b[0;34m)\u001b[0m\u001b[0;34m\u001b[0m\u001b[0;34m\u001b[0m\u001b[0m\n\u001b[0m\u001b[1;32m     64\u001b[0m \u001b[0;34m\u001b[0m\u001b[0m\n\u001b[1;32m     65\u001b[0m \u001b[0;34m\u001b[0m\u001b[0m\n",
            "\u001b[0;32m/usr/local/lib/python3.9/dist-packages/joblib/parallel.py\u001b[0m in \u001b[0;36m__call__\u001b[0;34m(self, iterable)\u001b[0m\n\u001b[1;32m   1049\u001b[0m                 \u001b[0mself\u001b[0m\u001b[0;34m.\u001b[0m\u001b[0m_iterating\u001b[0m \u001b[0;34m=\u001b[0m \u001b[0mself\u001b[0m\u001b[0;34m.\u001b[0m\u001b[0m_original_iterator\u001b[0m \u001b[0;32mis\u001b[0m \u001b[0;32mnot\u001b[0m \u001b[0;32mNone\u001b[0m\u001b[0;34m\u001b[0m\u001b[0;34m\u001b[0m\u001b[0m\n\u001b[1;32m   1050\u001b[0m \u001b[0;34m\u001b[0m\u001b[0m\n\u001b[0;32m-> 1051\u001b[0;31m             \u001b[0;32mwhile\u001b[0m \u001b[0mself\u001b[0m\u001b[0;34m.\u001b[0m\u001b[0mdispatch_one_batch\u001b[0m\u001b[0;34m(\u001b[0m\u001b[0miterator\u001b[0m\u001b[0;34m)\u001b[0m\u001b[0;34m:\u001b[0m\u001b[0;34m\u001b[0m\u001b[0;34m\u001b[0m\u001b[0m\n\u001b[0m\u001b[1;32m   1052\u001b[0m                 \u001b[0;32mpass\u001b[0m\u001b[0;34m\u001b[0m\u001b[0;34m\u001b[0m\u001b[0m\n\u001b[1;32m   1053\u001b[0m \u001b[0;34m\u001b[0m\u001b[0m\n",
            "\u001b[0;32m/usr/local/lib/python3.9/dist-packages/joblib/parallel.py\u001b[0m in \u001b[0;36mdispatch_one_batch\u001b[0;34m(self, iterator)\u001b[0m\n\u001b[1;32m    862\u001b[0m                 \u001b[0;32mreturn\u001b[0m \u001b[0;32mFalse\u001b[0m\u001b[0;34m\u001b[0m\u001b[0;34m\u001b[0m\u001b[0m\n\u001b[1;32m    863\u001b[0m             \u001b[0;32melse\u001b[0m\u001b[0;34m:\u001b[0m\u001b[0;34m\u001b[0m\u001b[0;34m\u001b[0m\u001b[0m\n\u001b[0;32m--> 864\u001b[0;31m                 \u001b[0mself\u001b[0m\u001b[0;34m.\u001b[0m\u001b[0m_dispatch\u001b[0m\u001b[0;34m(\u001b[0m\u001b[0mtasks\u001b[0m\u001b[0;34m)\u001b[0m\u001b[0;34m\u001b[0m\u001b[0;34m\u001b[0m\u001b[0m\n\u001b[0m\u001b[1;32m    865\u001b[0m                 \u001b[0;32mreturn\u001b[0m \u001b[0;32mTrue\u001b[0m\u001b[0;34m\u001b[0m\u001b[0;34m\u001b[0m\u001b[0m\n\u001b[1;32m    866\u001b[0m \u001b[0;34m\u001b[0m\u001b[0m\n",
            "\u001b[0;32m/usr/local/lib/python3.9/dist-packages/joblib/parallel.py\u001b[0m in \u001b[0;36m_dispatch\u001b[0;34m(self, batch)\u001b[0m\n\u001b[1;32m    780\u001b[0m         \u001b[0;32mwith\u001b[0m \u001b[0mself\u001b[0m\u001b[0;34m.\u001b[0m\u001b[0m_lock\u001b[0m\u001b[0;34m:\u001b[0m\u001b[0;34m\u001b[0m\u001b[0;34m\u001b[0m\u001b[0m\n\u001b[1;32m    781\u001b[0m             \u001b[0mjob_idx\u001b[0m \u001b[0;34m=\u001b[0m \u001b[0mlen\u001b[0m\u001b[0;34m(\u001b[0m\u001b[0mself\u001b[0m\u001b[0;34m.\u001b[0m\u001b[0m_jobs\u001b[0m\u001b[0;34m)\u001b[0m\u001b[0;34m\u001b[0m\u001b[0;34m\u001b[0m\u001b[0m\n\u001b[0;32m--> 782\u001b[0;31m             \u001b[0mjob\u001b[0m \u001b[0;34m=\u001b[0m \u001b[0mself\u001b[0m\u001b[0;34m.\u001b[0m\u001b[0m_backend\u001b[0m\u001b[0;34m.\u001b[0m\u001b[0mapply_async\u001b[0m\u001b[0;34m(\u001b[0m\u001b[0mbatch\u001b[0m\u001b[0;34m,\u001b[0m \u001b[0mcallback\u001b[0m\u001b[0;34m=\u001b[0m\u001b[0mcb\u001b[0m\u001b[0;34m)\u001b[0m\u001b[0;34m\u001b[0m\u001b[0;34m\u001b[0m\u001b[0m\n\u001b[0m\u001b[1;32m    783\u001b[0m             \u001b[0;31m# A job can complete so quickly than its callback is\u001b[0m\u001b[0;34m\u001b[0m\u001b[0;34m\u001b[0m\u001b[0m\n\u001b[1;32m    784\u001b[0m             \u001b[0;31m# called before we get here, causing self._jobs to\u001b[0m\u001b[0;34m\u001b[0m\u001b[0;34m\u001b[0m\u001b[0m\n",
            "\u001b[0;32m/usr/local/lib/python3.9/dist-packages/joblib/_parallel_backends.py\u001b[0m in \u001b[0;36mapply_async\u001b[0;34m(self, func, callback)\u001b[0m\n\u001b[1;32m    206\u001b[0m     \u001b[0;32mdef\u001b[0m \u001b[0mapply_async\u001b[0m\u001b[0;34m(\u001b[0m\u001b[0mself\u001b[0m\u001b[0;34m,\u001b[0m \u001b[0mfunc\u001b[0m\u001b[0;34m,\u001b[0m \u001b[0mcallback\u001b[0m\u001b[0;34m=\u001b[0m\u001b[0;32mNone\u001b[0m\u001b[0;34m)\u001b[0m\u001b[0;34m:\u001b[0m\u001b[0;34m\u001b[0m\u001b[0;34m\u001b[0m\u001b[0m\n\u001b[1;32m    207\u001b[0m         \u001b[0;34m\"\"\"Schedule a func to be run\"\"\"\u001b[0m\u001b[0;34m\u001b[0m\u001b[0;34m\u001b[0m\u001b[0m\n\u001b[0;32m--> 208\u001b[0;31m         \u001b[0mresult\u001b[0m \u001b[0;34m=\u001b[0m \u001b[0mImmediateResult\u001b[0m\u001b[0;34m(\u001b[0m\u001b[0mfunc\u001b[0m\u001b[0;34m)\u001b[0m\u001b[0;34m\u001b[0m\u001b[0;34m\u001b[0m\u001b[0m\n\u001b[0m\u001b[1;32m    209\u001b[0m         \u001b[0;32mif\u001b[0m \u001b[0mcallback\u001b[0m\u001b[0;34m:\u001b[0m\u001b[0;34m\u001b[0m\u001b[0;34m\u001b[0m\u001b[0m\n\u001b[1;32m    210\u001b[0m             \u001b[0mcallback\u001b[0m\u001b[0;34m(\u001b[0m\u001b[0mresult\u001b[0m\u001b[0;34m)\u001b[0m\u001b[0;34m\u001b[0m\u001b[0;34m\u001b[0m\u001b[0m\n",
            "\u001b[0;32m/usr/local/lib/python3.9/dist-packages/joblib/_parallel_backends.py\u001b[0m in \u001b[0;36m__init__\u001b[0;34m(self, batch)\u001b[0m\n\u001b[1;32m    570\u001b[0m         \u001b[0;31m# Don't delay the application, to avoid keeping the input\u001b[0m\u001b[0;34m\u001b[0m\u001b[0;34m\u001b[0m\u001b[0m\n\u001b[1;32m    571\u001b[0m         \u001b[0;31m# arguments in memory\u001b[0m\u001b[0;34m\u001b[0m\u001b[0;34m\u001b[0m\u001b[0m\n\u001b[0;32m--> 572\u001b[0;31m         \u001b[0mself\u001b[0m\u001b[0;34m.\u001b[0m\u001b[0mresults\u001b[0m \u001b[0;34m=\u001b[0m \u001b[0mbatch\u001b[0m\u001b[0;34m(\u001b[0m\u001b[0;34m)\u001b[0m\u001b[0;34m\u001b[0m\u001b[0;34m\u001b[0m\u001b[0m\n\u001b[0m\u001b[1;32m    573\u001b[0m \u001b[0;34m\u001b[0m\u001b[0m\n\u001b[1;32m    574\u001b[0m     \u001b[0;32mdef\u001b[0m \u001b[0mget\u001b[0m\u001b[0;34m(\u001b[0m\u001b[0mself\u001b[0m\u001b[0;34m)\u001b[0m\u001b[0;34m:\u001b[0m\u001b[0;34m\u001b[0m\u001b[0;34m\u001b[0m\u001b[0m\n",
            "\u001b[0;32m/usr/local/lib/python3.9/dist-packages/joblib/parallel.py\u001b[0m in \u001b[0;36m__call__\u001b[0;34m(self)\u001b[0m\n\u001b[1;32m    261\u001b[0m         \u001b[0;31m# change the default number of processes to -1\u001b[0m\u001b[0;34m\u001b[0m\u001b[0;34m\u001b[0m\u001b[0m\n\u001b[1;32m    262\u001b[0m         \u001b[0;32mwith\u001b[0m \u001b[0mparallel_backend\u001b[0m\u001b[0;34m(\u001b[0m\u001b[0mself\u001b[0m\u001b[0;34m.\u001b[0m\u001b[0m_backend\u001b[0m\u001b[0;34m,\u001b[0m \u001b[0mn_jobs\u001b[0m\u001b[0;34m=\u001b[0m\u001b[0mself\u001b[0m\u001b[0;34m.\u001b[0m\u001b[0m_n_jobs\u001b[0m\u001b[0;34m)\u001b[0m\u001b[0;34m:\u001b[0m\u001b[0;34m\u001b[0m\u001b[0;34m\u001b[0m\u001b[0m\n\u001b[0;32m--> 263\u001b[0;31m             return [func(*args, **kwargs)\n\u001b[0m\u001b[1;32m    264\u001b[0m                     for func, args, kwargs in self.items]\n\u001b[1;32m    265\u001b[0m \u001b[0;34m\u001b[0m\u001b[0m\n",
            "\u001b[0;32m/usr/local/lib/python3.9/dist-packages/joblib/parallel.py\u001b[0m in \u001b[0;36m<listcomp>\u001b[0;34m(.0)\u001b[0m\n\u001b[1;32m    261\u001b[0m         \u001b[0;31m# change the default number of processes to -1\u001b[0m\u001b[0;34m\u001b[0m\u001b[0;34m\u001b[0m\u001b[0m\n\u001b[1;32m    262\u001b[0m         \u001b[0;32mwith\u001b[0m \u001b[0mparallel_backend\u001b[0m\u001b[0;34m(\u001b[0m\u001b[0mself\u001b[0m\u001b[0;34m.\u001b[0m\u001b[0m_backend\u001b[0m\u001b[0;34m,\u001b[0m \u001b[0mn_jobs\u001b[0m\u001b[0;34m=\u001b[0m\u001b[0mself\u001b[0m\u001b[0;34m.\u001b[0m\u001b[0m_n_jobs\u001b[0m\u001b[0;34m)\u001b[0m\u001b[0;34m:\u001b[0m\u001b[0;34m\u001b[0m\u001b[0;34m\u001b[0m\u001b[0m\n\u001b[0;32m--> 263\u001b[0;31m             return [func(*args, **kwargs)\n\u001b[0m\u001b[1;32m    264\u001b[0m                     for func, args, kwargs in self.items]\n\u001b[1;32m    265\u001b[0m \u001b[0;34m\u001b[0m\u001b[0m\n",
            "\u001b[0;32m/usr/local/lib/python3.9/dist-packages/sklearn/utils/parallel.py\u001b[0m in \u001b[0;36m__call__\u001b[0;34m(self, *args, **kwargs)\u001b[0m\n\u001b[1;32m    121\u001b[0m             \u001b[0mconfig\u001b[0m \u001b[0;34m=\u001b[0m \u001b[0;34m{\u001b[0m\u001b[0;34m}\u001b[0m\u001b[0;34m\u001b[0m\u001b[0;34m\u001b[0m\u001b[0m\n\u001b[1;32m    122\u001b[0m         \u001b[0;32mwith\u001b[0m \u001b[0mconfig_context\u001b[0m\u001b[0;34m(\u001b[0m\u001b[0;34m**\u001b[0m\u001b[0mconfig\u001b[0m\u001b[0;34m)\u001b[0m\u001b[0;34m:\u001b[0m\u001b[0;34m\u001b[0m\u001b[0;34m\u001b[0m\u001b[0m\n\u001b[0;32m--> 123\u001b[0;31m             \u001b[0;32mreturn\u001b[0m \u001b[0mself\u001b[0m\u001b[0;34m.\u001b[0m\u001b[0mfunction\u001b[0m\u001b[0;34m(\u001b[0m\u001b[0;34m*\u001b[0m\u001b[0margs\u001b[0m\u001b[0;34m,\u001b[0m \u001b[0;34m**\u001b[0m\u001b[0mkwargs\u001b[0m\u001b[0;34m)\u001b[0m\u001b[0;34m\u001b[0m\u001b[0;34m\u001b[0m\u001b[0m\n\u001b[0m",
            "\u001b[0;32m/usr/local/lib/python3.9/dist-packages/sklearn/model_selection/_validation.py\u001b[0m in \u001b[0;36m_fit_and_score\u001b[0;34m(estimator, X, y, scorer, train, test, verbose, parameters, fit_params, return_train_score, return_parameters, return_n_test_samples, return_times, return_estimator, split_progress, candidate_progress, error_score)\u001b[0m\n\u001b[1;32m    684\u001b[0m             \u001b[0mestimator\u001b[0m\u001b[0;34m.\u001b[0m\u001b[0mfit\u001b[0m\u001b[0;34m(\u001b[0m\u001b[0mX_train\u001b[0m\u001b[0;34m,\u001b[0m \u001b[0;34m**\u001b[0m\u001b[0mfit_params\u001b[0m\u001b[0;34m)\u001b[0m\u001b[0;34m\u001b[0m\u001b[0;34m\u001b[0m\u001b[0m\n\u001b[1;32m    685\u001b[0m         \u001b[0;32melse\u001b[0m\u001b[0;34m:\u001b[0m\u001b[0;34m\u001b[0m\u001b[0;34m\u001b[0m\u001b[0m\n\u001b[0;32m--> 686\u001b[0;31m             \u001b[0mestimator\u001b[0m\u001b[0;34m.\u001b[0m\u001b[0mfit\u001b[0m\u001b[0;34m(\u001b[0m\u001b[0mX_train\u001b[0m\u001b[0;34m,\u001b[0m \u001b[0my_train\u001b[0m\u001b[0;34m,\u001b[0m \u001b[0;34m**\u001b[0m\u001b[0mfit_params\u001b[0m\u001b[0;34m)\u001b[0m\u001b[0;34m\u001b[0m\u001b[0;34m\u001b[0m\u001b[0m\n\u001b[0m\u001b[1;32m    687\u001b[0m \u001b[0;34m\u001b[0m\u001b[0m\n\u001b[1;32m    688\u001b[0m     \u001b[0;32mexcept\u001b[0m \u001b[0mException\u001b[0m\u001b[0;34m:\u001b[0m\u001b[0;34m\u001b[0m\u001b[0;34m\u001b[0m\u001b[0m\n",
            "\u001b[0;32m/usr/local/lib/python3.9/dist-packages/sklearn/tree/_classes.py\u001b[0m in \u001b[0;36mfit\u001b[0;34m(self, X, y, sample_weight, check_input)\u001b[0m\n\u001b[1;32m    887\u001b[0m         \"\"\"\n\u001b[1;32m    888\u001b[0m \u001b[0;34m\u001b[0m\u001b[0m\n\u001b[0;32m--> 889\u001b[0;31m         super().fit(\n\u001b[0m\u001b[1;32m    890\u001b[0m             \u001b[0mX\u001b[0m\u001b[0;34m,\u001b[0m\u001b[0;34m\u001b[0m\u001b[0;34m\u001b[0m\u001b[0m\n\u001b[1;32m    891\u001b[0m             \u001b[0my\u001b[0m\u001b[0;34m,\u001b[0m\u001b[0;34m\u001b[0m\u001b[0;34m\u001b[0m\u001b[0m\n",
            "\u001b[0;32m/usr/local/lib/python3.9/dist-packages/sklearn/tree/_classes.py\u001b[0m in \u001b[0;36mfit\u001b[0;34m(self, X, y, sample_weight, check_input)\u001b[0m\n\u001b[1;32m    377\u001b[0m             )\n\u001b[1;32m    378\u001b[0m \u001b[0;34m\u001b[0m\u001b[0m\n\u001b[0;32m--> 379\u001b[0;31m         \u001b[0mbuilder\u001b[0m\u001b[0;34m.\u001b[0m\u001b[0mbuild\u001b[0m\u001b[0;34m(\u001b[0m\u001b[0mself\u001b[0m\u001b[0;34m.\u001b[0m\u001b[0mtree_\u001b[0m\u001b[0;34m,\u001b[0m \u001b[0mX\u001b[0m\u001b[0;34m,\u001b[0m \u001b[0my\u001b[0m\u001b[0;34m,\u001b[0m \u001b[0msample_weight\u001b[0m\u001b[0;34m)\u001b[0m\u001b[0;34m\u001b[0m\u001b[0;34m\u001b[0m\u001b[0m\n\u001b[0m\u001b[1;32m    380\u001b[0m \u001b[0;34m\u001b[0m\u001b[0m\n\u001b[1;32m    381\u001b[0m         \u001b[0;32mif\u001b[0m \u001b[0mself\u001b[0m\u001b[0;34m.\u001b[0m\u001b[0mn_outputs_\u001b[0m \u001b[0;34m==\u001b[0m \u001b[0;36m1\u001b[0m \u001b[0;32mand\u001b[0m \u001b[0mis_classifier\u001b[0m\u001b[0;34m(\u001b[0m\u001b[0mself\u001b[0m\u001b[0;34m)\u001b[0m\u001b[0;34m:\u001b[0m\u001b[0;34m\u001b[0m\u001b[0;34m\u001b[0m\u001b[0m\n",
            "\u001b[0;31mKeyboardInterrupt\u001b[0m: "
          ]
        }
      ]
    },
    {
      "cell_type": "markdown",
      "source": [
        "Entrenamiento del modelo final del árbol de decisión:"
      ],
      "metadata": {
        "id": "yuu9UM1RaeN1"
      }
    },
    {
      "cell_type": "code",
      "source": [
        "#mejor_modelo_arbol = grid_search_arbol.best_estimator_\n",
        "\n",
        "print(\"MAE del árbol de decisión ajustado:\", mae(y_test,y_prediccion_ajustado_arbol))\n",
        "print(\"RMSE del árbol de decisión ajustado::\", rmse(y_test,y_prediccion_ajustado_arbol))\n",
        "print(\"Tiempo de ejecución para entrenar el modelo: \", end_arbol - start_arbol)\n",
        "\n",
        "#y_prediccion_ajustado_arbol = mejor_modelo_arbol.predict(X_test_normalizado)\n"
      ],
      "metadata": {
        "id": "Sc0V9e2Hacv9",
        "colab": {
          "base_uri": "https://localhost:8080/"
        },
        "outputId": "6bb27dce-1ac7-4cd2-f181-662da64d9bcc"
      },
      "execution_count": null,
      "outputs": [
        {
          "output_type": "stream",
          "name": "stdout",
          "text": [
            "MAE del árbol de decisión ajustado: 8234616.164383561\n",
            "RMSE del árbol de decisión ajustado:: 10077144.805963451\n",
            "Tiempo de ejecución para entrenar el modelo:  48.347015142440796\n"
          ]
        }
      ]
    },
    {
      "cell_type": "markdown",
      "source": [
        "## REGRESIÓN LINEAL"
      ],
      "metadata": {
        "id": "DkfpiOM_aYKa"
      }
    },
    {
      "cell_type": "markdown",
      "source": [
        "## CONCLUSIONES SOBRE MÉTODOS BÁSICOS"
      ],
      "metadata": {
        "id": "w_OdvTN3abnZ"
      }
    },
    {
      "cell_type": "markdown",
      "source": [
        "# REDUCIÓN DE LA DIMENSIONALIDAD"
      ],
      "metadata": {
        "id": "qnu7sR_-aqsl"
      }
    },
    {
      "cell_type": "code",
      "source": [
        "#Datos normalizados al principio del proyecto\n",
        "\n",
        "pca = PCA(0.95)\n",
        "pca.fit(X_train_normalizado)\n",
        "X_train_pca = pca.transform(X_train_normalizado)\n",
        "X_test_pca = pca.transform(X_test_normalizado)\n",
        "\n",
        "print(X_train_pca.shape, X_test_pca.shape)\n"
      ],
      "metadata": {
        "colab": {
          "base_uri": "https://localhost:8080/"
        },
        "id": "mVJJNfFwLQvb",
        "outputId": "85b2b034-72a3-4fcd-b73c-3a74adb87980"
      },
      "execution_count": null,
      "outputs": [
        {
          "output_type": "stream",
          "name": "stdout",
          "text": [
            "(3650, 8) (730, 8)\n"
          ]
        }
      ]
    },
    {
      "cell_type": "markdown",
      "source": [
        "Probar los modelos de nuevo ahora con los PCA"
      ],
      "metadata": {
        "id": "6ycHvQdsOt8n"
      }
    },
    {
      "cell_type": "markdown",
      "source": [
        "KNN"
      ],
      "metadata": {
        "id": "wTIwSLqtOyHV"
      }
    },
    {
      "cell_type": "code",
      "source": [
        "grid_search_knn.fit(X_train_normalizado, y_train)\n",
        "\n",
        "mejor_modelo_KNN = grid_search_knn.best_estimator_\n",
        "\n",
        "y_prediccion_ajustado = mejor_modelo_KNN.predict(X_test_normalizado)"
      ],
      "metadata": {
        "id": "qA6QWelsOdgR"
      },
      "execution_count": null,
      "outputs": []
    },
    {
      "cell_type": "markdown",
      "source": [
        "ARBOLES"
      ],
      "metadata": {
        "id": "o8v1r8bsOzfk"
      }
    },
    {
      "cell_type": "code",
      "source": [
        "\n",
        "\n"
      ],
      "metadata": {
        "id": "6kK0kCJQLvQM"
      },
      "execution_count": null,
      "outputs": []
    },
    {
      "cell_type": "code",
      "source": [
        "\"\"\"scaler = RobustScaler()\n",
        "pca = PCA(n_components=1)\n",
        "lr = LinearRegression()\n",
        "pipe_scale_pca_lr = Pipeline([\n",
        "  ('scale', scaler),\n",
        "  ('pca', pca),\n",
        "  ('lr', LinearRegression)])\n",
        "pipe_scale_pca_lr.fit(X_train)\n",
        "preds_test = pipe_scale_pca_knn.predict(X_test)\n",
        "\n",
        "\n",
        "# define pipeline with PCA and linear regression\n",
        "lr_pca = Pipeline([('scaler', RobustScaler()), ('pca', PCA(0.85)), ('lr', LinearRegression())])\n",
        "\n",
        "start_time = time.time()\n",
        "lr_pca.fit(X_train, y_train)\n",
        "end_time = time.time()\n",
        "elapsed_time_lr_pca = end_time - start_time\n",
        "\n",
        "lr_pca_pred = lr_pca.predict(X_test)\"\"\"\n",
        "\n",
        "\n",
        "\n",
        "\n",
        "\"\"\"scaler = RobustScaler()\n",
        "X_train_norm = scaler.fit_transform(X_train)\n",
        "X_test_norm = scaler.fit_transform(X_test)\n",
        "pca = PCA(0.85)\n",
        "pca.fit(X_train_norm)\n",
        "X_train_pca_norm = pca.transform(X_train_norm)\n",
        "X_test_pca_norm = pca.transform(X_test_norm)\n",
        "lr_default_pca = LinearRegression()\n",
        "lr_default_pca.fit(X_train_pca_norm, y_train)\n",
        "lr_default_pca.score(X_train_pca_norm, y_test)\"\"\"\n",
        "\n",
        "\n",
        "\n"
      ],
      "metadata": {
        "colab": {
          "base_uri": "https://localhost:8080/",
          "height": 676
        },
        "id": "_E2AxtqWJ6TE",
        "outputId": "d3e00a63-d986-4efa-a155-231b9a063ef7"
      },
      "execution_count": null,
      "outputs": [
        {
          "output_type": "stream",
          "name": "stdout",
          "text": [
            "[7.94329388e-01 1.37763892e-01 3.64962731e-02 1.76884137e-02\n",
            " 5.46143862e-03 2.87145924e-03 1.73575786e-03 1.35025321e-03\n",
            " 9.02570708e-04 5.13383803e-04 3.22294616e-04 2.05382679e-04\n",
            " 1.17692248e-04 8.74557186e-05 3.53271195e-05 2.39504513e-05\n",
            " 2.25508996e-05 1.57917238e-05 9.51647350e-06 7.66650450e-06\n",
            " 6.68834295e-06 5.22368885e-06 4.79936975e-06 3.64336843e-06\n",
            " 3.61176853e-06 2.55391495e-06 1.72841571e-06 1.56339699e-06\n",
            " 1.42142976e-06 1.11806988e-06 1.02962326e-06 8.04270468e-07\n",
            " 7.37543243e-07 5.63729580e-07 4.90565254e-07 4.73898170e-07\n",
            " 3.95077083e-07 3.63822558e-07 3.12209066e-07 2.65579707e-07\n",
            " 2.11964270e-07 1.75596309e-07 1.50199028e-07 1.40408545e-07\n",
            " 1.27552279e-07 1.13037616e-07 8.97446388e-08 7.86864314e-08\n",
            " 7.45024511e-08 6.52251197e-08 6.32582635e-08 6.08917398e-08\n",
            " 4.85563502e-08 3.80516105e-08 3.71194282e-08 3.18605243e-08\n",
            " 3.12782110e-08 2.90279611e-08 2.71484244e-08 2.32918717e-08\n",
            " 2.23662975e-08 2.05981245e-08 1.92419079e-08 1.51798942e-08\n",
            " 1.21804115e-08 1.15092814e-08 7.02034889e-09 6.89051598e-09\n",
            " 5.68304550e-09 4.60191001e-09 3.78848020e-09 3.26976924e-09\n",
            " 1.95950215e-09 9.95454784e-10 6.79304663e-10]\n"
          ]
        },
        {
          "output_type": "error",
          "ename": "ValueError",
          "evalue": "ignored",
          "traceback": [
            "\u001b[0;31m---------------------------------------------------------------------------\u001b[0m",
            "\u001b[0;31mValueError\u001b[0m                                Traceback (most recent call last)",
            "\u001b[0;32m<ipython-input-78-e2a08dfd631b>\u001b[0m in \u001b[0;36m<cell line: 50>\u001b[0;34m()\u001b[0m\n\u001b[1;32m     48\u001b[0m \u001b[0mlr_default_pca\u001b[0m \u001b[0;34m=\u001b[0m \u001b[0mKNeighborsClassifier\u001b[0m\u001b[0;34m(\u001b[0m\u001b[0;34m)\u001b[0m\u001b[0;34m\u001b[0m\u001b[0;34m\u001b[0m\u001b[0m\n\u001b[1;32m     49\u001b[0m \u001b[0mlr_default_pca\u001b[0m\u001b[0;34m.\u001b[0m\u001b[0mfit\u001b[0m\u001b[0;34m(\u001b[0m\u001b[0mX_train_pca\u001b[0m\u001b[0;34m,\u001b[0m \u001b[0my_train\u001b[0m\u001b[0;34m)\u001b[0m\u001b[0;34m\u001b[0m\u001b[0;34m\u001b[0m\u001b[0m\n\u001b[0;32m---> 50\u001b[0;31m \u001b[0mlr_default_pca\u001b[0m\u001b[0;34m.\u001b[0m\u001b[0mscore\u001b[0m\u001b[0;34m(\u001b[0m\u001b[0mX_train_pca\u001b[0m\u001b[0;34m,\u001b[0m \u001b[0my_test\u001b[0m\u001b[0;34m)\u001b[0m\u001b[0;34m\u001b[0m\u001b[0;34m\u001b[0m\u001b[0m\n\u001b[0m",
            "\u001b[0;32m/usr/local/lib/python3.9/dist-packages/sklearn/base.py\u001b[0m in \u001b[0;36mscore\u001b[0;34m(self, X, y, sample_weight)\u001b[0m\n\u001b[1;32m    666\u001b[0m         \u001b[0;32mfrom\u001b[0m \u001b[0;34m.\u001b[0m\u001b[0mmetrics\u001b[0m \u001b[0;32mimport\u001b[0m \u001b[0maccuracy_score\u001b[0m\u001b[0;34m\u001b[0m\u001b[0;34m\u001b[0m\u001b[0m\n\u001b[1;32m    667\u001b[0m \u001b[0;34m\u001b[0m\u001b[0m\n\u001b[0;32m--> 668\u001b[0;31m         \u001b[0;32mreturn\u001b[0m \u001b[0maccuracy_score\u001b[0m\u001b[0;34m(\u001b[0m\u001b[0my\u001b[0m\u001b[0;34m,\u001b[0m \u001b[0mself\u001b[0m\u001b[0;34m.\u001b[0m\u001b[0mpredict\u001b[0m\u001b[0;34m(\u001b[0m\u001b[0mX\u001b[0m\u001b[0;34m)\u001b[0m\u001b[0;34m,\u001b[0m \u001b[0msample_weight\u001b[0m\u001b[0;34m=\u001b[0m\u001b[0msample_weight\u001b[0m\u001b[0;34m)\u001b[0m\u001b[0;34m\u001b[0m\u001b[0;34m\u001b[0m\u001b[0m\n\u001b[0m\u001b[1;32m    669\u001b[0m \u001b[0;34m\u001b[0m\u001b[0m\n\u001b[1;32m    670\u001b[0m     \u001b[0;32mdef\u001b[0m \u001b[0m_more_tags\u001b[0m\u001b[0;34m(\u001b[0m\u001b[0mself\u001b[0m\u001b[0;34m)\u001b[0m\u001b[0;34m:\u001b[0m\u001b[0;34m\u001b[0m\u001b[0;34m\u001b[0m\u001b[0m\n",
            "\u001b[0;32m/usr/local/lib/python3.9/dist-packages/sklearn/utils/_param_validation.py\u001b[0m in \u001b[0;36mwrapper\u001b[0;34m(*args, **kwargs)\u001b[0m\n\u001b[1;32m    190\u001b[0m \u001b[0;34m\u001b[0m\u001b[0m\n\u001b[1;32m    191\u001b[0m             \u001b[0;32mtry\u001b[0m\u001b[0;34m:\u001b[0m\u001b[0;34m\u001b[0m\u001b[0;34m\u001b[0m\u001b[0m\n\u001b[0;32m--> 192\u001b[0;31m                 \u001b[0;32mreturn\u001b[0m \u001b[0mfunc\u001b[0m\u001b[0;34m(\u001b[0m\u001b[0;34m*\u001b[0m\u001b[0margs\u001b[0m\u001b[0;34m,\u001b[0m \u001b[0;34m**\u001b[0m\u001b[0mkwargs\u001b[0m\u001b[0;34m)\u001b[0m\u001b[0;34m\u001b[0m\u001b[0;34m\u001b[0m\u001b[0m\n\u001b[0m\u001b[1;32m    193\u001b[0m             \u001b[0;32mexcept\u001b[0m \u001b[0mInvalidParameterError\u001b[0m \u001b[0;32mas\u001b[0m \u001b[0me\u001b[0m\u001b[0;34m:\u001b[0m\u001b[0;34m\u001b[0m\u001b[0;34m\u001b[0m\u001b[0m\n\u001b[1;32m    194\u001b[0m                 \u001b[0;31m# When the function is just a wrapper around an estimator, we allow\u001b[0m\u001b[0;34m\u001b[0m\u001b[0;34m\u001b[0m\u001b[0m\n",
            "\u001b[0;32m/usr/local/lib/python3.9/dist-packages/sklearn/metrics/_classification.py\u001b[0m in \u001b[0;36maccuracy_score\u001b[0;34m(y_true, y_pred, normalize, sample_weight)\u001b[0m\n\u001b[1;32m    219\u001b[0m \u001b[0;34m\u001b[0m\u001b[0m\n\u001b[1;32m    220\u001b[0m     \u001b[0;31m# Compute accuracy for each possible representation\u001b[0m\u001b[0;34m\u001b[0m\u001b[0;34m\u001b[0m\u001b[0m\n\u001b[0;32m--> 221\u001b[0;31m     \u001b[0my_type\u001b[0m\u001b[0;34m,\u001b[0m \u001b[0my_true\u001b[0m\u001b[0;34m,\u001b[0m \u001b[0my_pred\u001b[0m \u001b[0;34m=\u001b[0m \u001b[0m_check_targets\u001b[0m\u001b[0;34m(\u001b[0m\u001b[0my_true\u001b[0m\u001b[0;34m,\u001b[0m \u001b[0my_pred\u001b[0m\u001b[0;34m)\u001b[0m\u001b[0;34m\u001b[0m\u001b[0;34m\u001b[0m\u001b[0m\n\u001b[0m\u001b[1;32m    222\u001b[0m     \u001b[0mcheck_consistent_length\u001b[0m\u001b[0;34m(\u001b[0m\u001b[0my_true\u001b[0m\u001b[0;34m,\u001b[0m \u001b[0my_pred\u001b[0m\u001b[0;34m,\u001b[0m \u001b[0msample_weight\u001b[0m\u001b[0;34m)\u001b[0m\u001b[0;34m\u001b[0m\u001b[0;34m\u001b[0m\u001b[0m\n\u001b[1;32m    223\u001b[0m     \u001b[0;32mif\u001b[0m \u001b[0my_type\u001b[0m\u001b[0;34m.\u001b[0m\u001b[0mstartswith\u001b[0m\u001b[0;34m(\u001b[0m\u001b[0;34m\"multilabel\"\u001b[0m\u001b[0;34m)\u001b[0m\u001b[0;34m:\u001b[0m\u001b[0;34m\u001b[0m\u001b[0;34m\u001b[0m\u001b[0m\n",
            "\u001b[0;32m/usr/local/lib/python3.9/dist-packages/sklearn/metrics/_classification.py\u001b[0m in \u001b[0;36m_check_targets\u001b[0;34m(y_true, y_pred)\u001b[0m\n\u001b[1;32m     84\u001b[0m     \u001b[0my_pred\u001b[0m \u001b[0;34m:\u001b[0m \u001b[0marray\u001b[0m \u001b[0;32mor\u001b[0m \u001b[0mindicator\u001b[0m \u001b[0mmatrix\u001b[0m\u001b[0;34m\u001b[0m\u001b[0;34m\u001b[0m\u001b[0m\n\u001b[1;32m     85\u001b[0m     \"\"\"\n\u001b[0;32m---> 86\u001b[0;31m     \u001b[0mcheck_consistent_length\u001b[0m\u001b[0;34m(\u001b[0m\u001b[0my_true\u001b[0m\u001b[0;34m,\u001b[0m \u001b[0my_pred\u001b[0m\u001b[0;34m)\u001b[0m\u001b[0;34m\u001b[0m\u001b[0;34m\u001b[0m\u001b[0m\n\u001b[0m\u001b[1;32m     87\u001b[0m     \u001b[0mtype_true\u001b[0m \u001b[0;34m=\u001b[0m \u001b[0mtype_of_target\u001b[0m\u001b[0;34m(\u001b[0m\u001b[0my_true\u001b[0m\u001b[0;34m,\u001b[0m \u001b[0minput_name\u001b[0m\u001b[0;34m=\u001b[0m\u001b[0;34m\"y_true\"\u001b[0m\u001b[0;34m)\u001b[0m\u001b[0;34m\u001b[0m\u001b[0;34m\u001b[0m\u001b[0m\n\u001b[1;32m     88\u001b[0m     \u001b[0mtype_pred\u001b[0m \u001b[0;34m=\u001b[0m \u001b[0mtype_of_target\u001b[0m\u001b[0;34m(\u001b[0m\u001b[0my_pred\u001b[0m\u001b[0;34m,\u001b[0m \u001b[0minput_name\u001b[0m\u001b[0;34m=\u001b[0m\u001b[0;34m\"y_pred\"\u001b[0m\u001b[0;34m)\u001b[0m\u001b[0;34m\u001b[0m\u001b[0;34m\u001b[0m\u001b[0m\n",
            "\u001b[0;32m/usr/local/lib/python3.9/dist-packages/sklearn/utils/validation.py\u001b[0m in \u001b[0;36mcheck_consistent_length\u001b[0;34m(*arrays)\u001b[0m\n\u001b[1;32m    395\u001b[0m     \u001b[0muniques\u001b[0m \u001b[0;34m=\u001b[0m \u001b[0mnp\u001b[0m\u001b[0;34m.\u001b[0m\u001b[0munique\u001b[0m\u001b[0;34m(\u001b[0m\u001b[0mlengths\u001b[0m\u001b[0;34m)\u001b[0m\u001b[0;34m\u001b[0m\u001b[0;34m\u001b[0m\u001b[0m\n\u001b[1;32m    396\u001b[0m     \u001b[0;32mif\u001b[0m \u001b[0mlen\u001b[0m\u001b[0;34m(\u001b[0m\u001b[0muniques\u001b[0m\u001b[0;34m)\u001b[0m \u001b[0;34m>\u001b[0m \u001b[0;36m1\u001b[0m\u001b[0;34m:\u001b[0m\u001b[0;34m\u001b[0m\u001b[0;34m\u001b[0m\u001b[0m\n\u001b[0;32m--> 397\u001b[0;31m         raise ValueError(\n\u001b[0m\u001b[1;32m    398\u001b[0m             \u001b[0;34m\"Found input variables with inconsistent numbers of samples: %r\"\u001b[0m\u001b[0;34m\u001b[0m\u001b[0;34m\u001b[0m\u001b[0m\n\u001b[1;32m    399\u001b[0m             \u001b[0;34m%\u001b[0m \u001b[0;34m[\u001b[0m\u001b[0mint\u001b[0m\u001b[0;34m(\u001b[0m\u001b[0ml\u001b[0m\u001b[0;34m)\u001b[0m \u001b[0;32mfor\u001b[0m \u001b[0ml\u001b[0m \u001b[0;32min\u001b[0m \u001b[0mlengths\u001b[0m\u001b[0;34m]\u001b[0m\u001b[0;34m\u001b[0m\u001b[0;34m\u001b[0m\u001b[0m\n",
            "\u001b[0;31mValueError\u001b[0m: Found input variables with inconsistent numbers of samples: [730, 3650]"
          ]
        }
      ]
    },
    {
      "cell_type": "markdown",
      "source": [
        "# MÉTODOS AVANZADOS"
      ],
      "metadata": {
        "id": "xHCZitKuayig"
      }
    },
    {
      "cell_type": "markdown",
      "source": [
        "## SVM"
      ],
      "metadata": {
        "id": "KQQJsY-ba5TX"
      }
    },
    {
      "cell_type": "markdown",
      "source": [
        "## RANDOM FORESTS"
      ],
      "metadata": {
        "id": "O9wYWvSGa7Gd"
      }
    },
    {
      "cell_type": "markdown",
      "source": [
        "# SELECCIÓN Y EVALUACIÓN DEL MEJOR MÉTODO"
      ],
      "metadata": {
        "id": "-2lyzIeJa9AU"
      }
    }
  ],
  "metadata": {
    "colab": {
      "provenance": []
    },
    "kernelspec": {
      "display_name": "Python 3",
      "name": "python3"
    },
    "language_info": {
      "name": "python"
    }
  },
  "nbformat": 4,
  "nbformat_minor": 0
}